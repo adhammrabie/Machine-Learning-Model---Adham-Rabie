{
  "cells": [
    {
      "cell_type": "markdown",
      "metadata": {},
      "source": [
        "# Importing the Libraries and Dataset"
      ]
    },
    {
      "cell_type": "code",
      "execution_count": null,
      "metadata": {
        "id": "DV5xsqnsuknt"
      },
      "outputs": [],
      "source": [
        "import pandas as pd\n",
        "import numpy as np\n",
        "import matplotlib.pyplot as plt\n",
        "import seaborn as sns\n",
        "from sklearn.model_selection import train_test_split\n",
        "from sklearn.preprocessing import LabelEncoder\n",
        "from sklearn.preprocessing import StandardScaler\n",
        "from imblearn.over_sampling import RandomOverSampler\n",
        "from sklearn.linear_model import LogisticRegression\n",
        "from sklearn.model_selection import GridSearchCV\n",
        "from sklearn.metrics import accuracy_score, classification_report, confusion_matrix\n",
        "from sklearn.model_selection import cross_val_score, StratifiedKFold\n",
        "from sklearn.metrics import make_scorer\n",
        "from sklearn.ensemble import RandomForestClassifier\n",
        "from sklearn.svm import SVC\n",
        "from sklearn. ensemble import VotingClassifier\n",
        "from sklearn.metrics import roc_auc_score, roc_curve\n",
        "from tensorflow.keras.models import Sequential\n",
        "from tensorflow.keras.layers import Dense\n",
        "from tensorflow.keras.callbacks import EarlyStopping"
      ]
    },
    {
      "cell_type": "code",
      "execution_count": null,
      "metadata": {
        "id": "u1KehlmGu-f8"
      },
      "outputs": [],
      "source": [
        "bank_data=pd.read_csv(\"bank-full.csv\")\n",
        "x=bank_data.iloc[:, :-1].values\n",
        "y=bank_data.iloc[:, -1].values"
      ]
    },
    {
      "cell_type": "code",
      "execution_count": null,
      "metadata": {
        "id": "VjP8Ij1RvL0V"
      },
      "outputs": [],
      "source": [
        "print(type(x))\n",
        "print(x)"
      ]
    },
    {
      "cell_type": "code",
      "execution_count": null,
      "metadata": {
        "id": "dj6oObpXvOhX"
      },
      "outputs": [],
      "source": [
        "print(y)"
      ]
    },
    {
      "cell_type": "code",
      "execution_count": null,
      "metadata": {
        "id": "x2MoGeRfvRjx"
      },
      "outputs": [],
      "source": [
        "bank_data.head()"
      ]
    },
    {
      "cell_type": "code",
      "execution_count": null,
      "metadata": {
        "id": "y_PTa7qSvTxd"
      },
      "outputs": [],
      "source": [
        "bank_data.info()"
      ]
    },
    {
      "cell_type": "code",
      "execution_count": null,
      "metadata": {
        "id": "D7k3BYjqxxBX"
      },
      "outputs": [],
      "source": [
        "import matplotlib.pyplot as plt\n",
        "\n",
        "\n",
        "data_types_counts = bank_data.dtypes.value_counts()\n",
        "\n",
        "plt.figure(figsize=(8, 6))\n",
        "data_types_counts.plot(kind='bar', color='skyblue')\n",
        "plt.title('Data Types Count in bank DataFrame')\n",
        "plt.xlabel('Data Types')\n",
        "plt.ylabel('Count')\n",
        "plt.xticks(rotation=45)\n",
        "plt.show()"
      ]
    },
    {
      "cell_type": "code",
      "execution_count": null,
      "metadata": {
        "id": "Tg_KVkBwvViX"
      },
      "outputs": [],
      "source": [
        "bank_data.describe()"
      ]
    },
    {
      "cell_type": "code",
      "execution_count": null,
      "metadata": {
        "id": "-sP1xXL8HcJz"
      },
      "outputs": [],
      "source": [
        "bank_data.head(25)"
      ]
    },
    {
      "cell_type": "code",
      "execution_count": null,
      "metadata": {
        "id": "6VS5jXxEvYEH"
      },
      "outputs": [],
      "source": [
        "from sklearn.model_selection import train_test_split\n",
        "x_train , x_test, y_train , y_test = train_test_split(x,y,test_size=0.2,random_state=0)"
      ]
    },
    {
      "cell_type": "code",
      "execution_count": null,
      "metadata": {
        "id": "krSACASlvagI"
      },
      "outputs": [],
      "source": [
        "print(x_train)"
      ]
    },
    {
      "cell_type": "code",
      "execution_count": null,
      "metadata": {
        "id": "ScdaYBCavcR0"
      },
      "outputs": [],
      "source": [
        "print(x_test)"
      ]
    },
    {
      "cell_type": "code",
      "execution_count": null,
      "metadata": {
        "id": "Nxy-Drt7veJb"
      },
      "outputs": [],
      "source": [
        "print(y_train)"
      ]
    },
    {
      "cell_type": "code",
      "execution_count": null,
      "metadata": {
        "id": "kXMVdcTUvfn1"
      },
      "outputs": [],
      "source": [
        "print(y_test)"
      ]
    },
    {
      "cell_type": "markdown",
      "metadata": {
        "id": "Qgp9PxUEvll8"
      },
      "source": [
        "# Encoding the Dependant Variable\n"
      ]
    },
    {
      "cell_type": "code",
      "execution_count": null,
      "metadata": {
        "id": "hYhJoW0ZvhZf"
      },
      "outputs": [],
      "source": [
        "from sklearn.preprocessing import LabelEncoder\n",
        "lb_obj= LabelEncoder()\n",
        "y_train=lb_obj.fit_transform(y_train)\n",
        "y_test=lb_obj.transform(y_test)"
      ]
    },
    {
      "cell_type": "code",
      "execution_count": null,
      "metadata": {
        "id": "yMvF_5AMvmW3"
      },
      "outputs": [],
      "source": [
        "print(y_train)"
      ]
    },
    {
      "cell_type": "code",
      "execution_count": null,
      "metadata": {
        "id": "SOd3hnbxvp5L"
      },
      "outputs": [],
      "source": [
        "print(y_test)"
      ]
    },
    {
      "cell_type": "markdown",
      "metadata": {
        "id": "B_uuIte8vygX"
      },
      "source": [
        "# Converting categorical type data into numeric type"
      ]
    },
    {
      "cell_type": "code",
      "execution_count": null,
      "metadata": {
        "id": "Bu-ZZ_QuvzJw"
      },
      "outputs": [],
      "source": [
        "from sklearn.preprocessing import LabelEncoder"
      ]
    },
    {
      "cell_type": "code",
      "execution_count": null,
      "metadata": {
        "id": "4HwK05XMv2D_"
      },
      "outputs": [],
      "source": [
        "df_numerical=bank_data.select_dtypes(['int64','float64'])\n",
        "df_categorical=bank_data.select_dtypes(object)"
      ]
    },
    {
      "cell_type": "code",
      "execution_count": null,
      "metadata": {
        "id": "x6qrvSrkv33S"
      },
      "outputs": [],
      "source": [
        "df_numerical.dtypes"
      ]
    },
    {
      "cell_type": "code",
      "execution_count": null,
      "metadata": {
        "id": "SdYiFchpv7zq"
      },
      "outputs": [],
      "source": [
        "df_numerical.head()"
      ]
    },
    {
      "cell_type": "code",
      "execution_count": null,
      "metadata": {
        "id": "--Xmfa5jv9bm"
      },
      "outputs": [],
      "source": [
        "df_categorical.dtypes"
      ]
    },
    {
      "cell_type": "code",
      "execution_count": null,
      "metadata": {
        "id": "0qLdfP0Yv_Bs"
      },
      "outputs": [],
      "source": [
        "df_categorical.head()"
      ]
    },
    {
      "cell_type": "code",
      "execution_count": null,
      "metadata": {
        "id": "K4ljpCpWwBMH"
      },
      "outputs": [],
      "source": [
        "for col in df_categorical:\n",
        "\n",
        "    le=LabelEncoder()\n",
        "    df_categorical[col]=le.fit_transform(df_categorical[col])"
      ]
    },
    {
      "cell_type": "code",
      "execution_count": null,
      "metadata": {
        "id": "e6CTeqyGwBso"
      },
      "outputs": [],
      "source": [
        "df_categorical.dtypes"
      ]
    },
    {
      "cell_type": "markdown",
      "metadata": {
        "id": "BPuw9FSuwD0r"
      },
      "source": [
        "# Concatenating the categorical and numerical dataframes"
      ]
    },
    {
      "cell_type": "code",
      "execution_count": null,
      "metadata": {
        "id": "2_PPTKaswGzi"
      },
      "outputs": [],
      "source": [
        "bank_updated=pd.concat([df_numerical,df_categorical],axis=1)"
      ]
    },
    {
      "cell_type": "code",
      "execution_count": null,
      "metadata": {
        "id": "i7phrSBQzxv6"
      },
      "outputs": [],
      "source": [
        "import matplotlib.pyplot as plt\n",
        "\n",
        "\n",
        "data_types_counts = bank_updated.dtypes.value_counts()\n",
        "\n",
        "plt.figure(figsize=(8, 6))\n",
        "data_types_counts.plot(kind='bar', color='skyblue')\n",
        "plt.title('Data Types Count in bank DataFrame')\n",
        "plt.xlabel('Data Types')\n",
        "plt.ylabel('Count')\n",
        "plt.xticks(rotation=45)\n",
        "plt.show()"
      ]
    },
    {
      "cell_type": "code",
      "execution_count": null,
      "metadata": {
        "id": "6O4P7aWKGBsk"
      },
      "outputs": [],
      "source": [
        "import seaborn as sns\n",
        "import matplotlib.pyplot as plt\n",
        "\n",
        "response_variable = 'Target'\n",
        "\n",
        "numeric_features = bank_updated.select_dtypes(include=['float64', 'int64']).columns\n",
        "\n",
        "df_with_response = bank_updated.copy()\n",
        "df_with_response['color'] = df_with_response[response_variable]\n",
        "\n",
        "sns.pairplot(df_with_response, hue='color', vars=numeric_features, palette='viridis')\n",
        "plt.suptitle(f'Pair Plot by {response_variable}', y=1.02)\n",
        "plt.show()"
      ]
    },
    {
      "cell_type": "code",
      "execution_count": null,
      "metadata": {
        "id": "v8ulNVVcwJhc"
      },
      "outputs": [],
      "source": [
        "bank_updated.head()"
      ]
    },
    {
      "cell_type": "code",
      "execution_count": null,
      "metadata": {
        "id": "Mn-YUJMKwLL3"
      },
      "outputs": [],
      "source": [
        "bank_updated.corr()"
      ]
    },
    {
      "cell_type": "code",
      "execution_count": null,
      "metadata": {
        "id": "gJ-Cje6BwNU8"
      },
      "outputs": [],
      "source": [
        "bank_updated.corr().sum()"
      ]
    },
    {
      "cell_type": "code",
      "execution_count": null,
      "metadata": {
        "id": "MoGaCwhbwPHC"
      },
      "outputs": [],
      "source": [
        "fig, ax = plt.subplots(figsize=(18, 6))\n",
        "\n",
        "sns.heatmap(bank_updated.corr(), annot=True, ax=ax)\n",
        "\n",
        "plt.xticks(rotation=45)\n",
        "\n",
        "plt.show()"
      ]
    },
    {
      "cell_type": "code",
      "execution_count": null,
      "metadata": {
        "id": "bpx781XRwRlc"
      },
      "outputs": [],
      "source": [
        "import matplotlib.pyplot as plt\n",
        "import seaborn as sns\n",
        "\n",
        "ot = bank_updated.copy()\n",
        "\n",
        "fig, axes = plt.subplots(7, 1, figsize=(14, 12), sharex=False, sharey=False)\n",
        "\n",
        "numerical_columns = ['age', 'balance', 'day', 'duration', 'campaign', 'pdays', 'previous']\n",
        "\n",
        "for i, column in enumerate(numerical_columns):\n",
        "    sns.boxplot(x=column, data=ot, palette='Blues', ax=axes[i])\n",
        "\n",
        "plt.tight_layout(pad=2.0)\n",
        "\n",
        "plt.show()"
      ]
    },
    {
      "cell_type": "code",
      "execution_count": null,
      "metadata": {
        "id": "bmeejoc07sw3"
      },
      "outputs": [],
      "source": [
        "import seaborn as sns\n",
        "import matplotlib.pyplot as plt\n",
        "\n",
        "def plot_boxplot(df, columns):\n",
        "    plt.figure(figsize=(14, 8))\n",
        "    for i, column in enumerate(columns, 1):\n",
        "        plt.subplot(1, len(columns), i)\n",
        "        sns.boxplot(y=df[column])\n",
        "        plt.title(f'Box Plot of {column}')\n",
        "    plt.tight_layout()\n",
        "    plt.show()"
      ]
    },
    {
      "cell_type": "code",
      "execution_count": null,
      "metadata": {
        "id": "Q9CKDhQuwUd9"
      },
      "outputs": [],
      "source": [
        "bank_analysis = bank_updated.copy()"
      ]
    },
    {
      "cell_type": "code",
      "execution_count": null,
      "metadata": {
        "id": "syOYwN3RwXXM"
      },
      "outputs": [],
      "source": [
        "X=bank_analysis.drop('Target',axis=1)\n",
        "Y=bank_analysis['Target']"
      ]
    },
    {
      "cell_type": "code",
      "execution_count": null,
      "metadata": {
        "id": "AkWOcGpawbp2"
      },
      "outputs": [],
      "source": [
        "from sklearn.model_selection import train_test_split\n",
        "X_train, X_test, Y_train, Y_test = train_test_split(X, Y, test_size=0.3, random_state=1)"
      ]
    },
    {
      "cell_type": "code",
      "execution_count": null,
      "metadata": {
        "id": "XhdJEitlwd68"
      },
      "outputs": [],
      "source": [
        "from sklearn.preprocessing import StandardScaler"
      ]
    },
    {
      "cell_type": "code",
      "execution_count": null,
      "metadata": {
        "id": "4Sq7CfTGwfJw"
      },
      "outputs": [],
      "source": [
        "standard_scaling=StandardScaler()\n",
        "\n",
        "X_train=standard_scaling.fit_transform(X_train)\n",
        "X_test=standard_scaling.transform(X_test)"
      ]
    },
    {
      "cell_type": "code",
      "execution_count": null,
      "metadata": {
        "id": "e2J3cujywg8m"
      },
      "outputs": [],
      "source": [
        "X_test"
      ]
    },
    {
      "cell_type": "code",
      "execution_count": null,
      "metadata": {
        "id": "3nvb7nZewjTQ"
      },
      "outputs": [],
      "source": [
        "X_train"
      ]
    },
    {
      "cell_type": "markdown",
      "metadata": {
        "id": "DaSPt5V9woLt"
      },
      "source": [
        "# Logistic Regression Model"
      ]
    },
    {
      "cell_type": "code",
      "execution_count": null,
      "metadata": {
        "id": "4dEV4zA8wo7S"
      },
      "outputs": [],
      "source": [
        "from sklearn.linear_model import LogisticRegression\n",
        "regressor = LogisticRegression(random_state = 0)\n",
        "regressor.fit(X_train, Y_train)"
      ]
    },
    {
      "cell_type": "code",
      "execution_count": null,
      "metadata": {
        "id": "ND2hAjkJwquE"
      },
      "outputs": [],
      "source": [
        "Y_pred=regressor.predict(X_test)\n",
        "Y_pred"
      ]
    },
    {
      "cell_type": "code",
      "execution_count": null,
      "metadata": {
        "id": "XknwSqttwwNJ"
      },
      "outputs": [],
      "source": [
        "regressor.score(X_test,Y_test)"
      ]
    },
    {
      "cell_type": "code",
      "execution_count": null,
      "metadata": {
        "id": "ZUooHkVmwzdL"
      },
      "outputs": [],
      "source": [
        "from sklearn.metrics import r2_score\n",
        "r2_score(Y_test, Y_pred)"
      ]
    },
    {
      "cell_type": "code",
      "execution_count": null,
      "metadata": {
        "id": "YIBMg0UPIZeV"
      },
      "outputs": [],
      "source": [
        "from sklearn.metrics import classification_report\n",
        "from sklearn.metrics import confusion_matrix"
      ]
    },
    {
      "cell_type": "code",
      "execution_count": null,
      "metadata": {
        "id": "VODFzxn4Ib20"
      },
      "outputs": [],
      "source": [
        "from sklearn.model_selection import train_test_split\n",
        "from sklearn.ensemble import RandomForestClassifier\n",
        "from sklearn.metrics import classification_report\n",
        "\n",
        "X_train, X_test, Y_train, Y_test = train_test_split(X, Y, test_size=0.2, random_state=42)\n",
        "\n",
        "model = RandomForestClassifier()\n",
        "model.fit(X_train, Y_train)\n",
        "\n",
        "Y_pred = model.predict(X_test)\n",
        "\n",
        "print(classification_report(Y_test, Y_pred))"
      ]
    },
    {
      "cell_type": "code",
      "execution_count": null,
      "metadata": {
        "id": "dyhDZo0zJaON"
      },
      "outputs": [],
      "source": [
        "print(confusion_matrix(Y_test,Y_pred))"
      ]
    },
    {
      "cell_type": "code",
      "execution_count": null,
      "metadata": {
        "id": "kvxnZDJuhS_q"
      },
      "outputs": [],
      "source": [
        "cm = confusion_matrix(Y_test, Y_pred)\n",
        "print(\"Confusion Matrix:\\n\", cm)\n",
        "\n",
        "plt.figure(figsize=(8, 6))\n",
        "sns.heatmap(cm, annot=True, fmt='d', cmap='Blues', cbar=False)\n",
        "plt.title('Confusion Matrix')\n",
        "plt.xlabel('Predicted Labels')\n",
        "plt.ylabel('True Labels')\n",
        "plt.show()"
      ]
    },
    {
      "cell_type": "code",
      "execution_count": null,
      "metadata": {
        "id": "umZlIYT1w0T0"
      },
      "outputs": [],
      "source": [
        "X = bank_updated.drop('Target', axis=1)\n",
        "Y = bank_updated['Target']\n",
        "X_train, X_test, y_train, y_test = train_test_split(X, Y, test_size=0.2, random_state=42)\n",
        "\n",
        "clf = LogisticRegression()\n",
        "clf.fit(X_train, y_train)\n",
        "\n",
        "y_proba = clf.predict_proba(X_test)[:, 1]\n",
        "\n",
        "fpr, tpr, thresholds = roc_curve(y_test, y_proba)\n",
        "\n",
        "auc = roc_auc_score(y_test, y_proba)\n",
        "\n",
        "plt.plot(fpr, tpr, label=\"AUC = {:.3f}\".format(auc))\n",
        "plt.xlabel(\"False Positive Rate\")\n",
        "plt.ylabel(\"True Positive Rate\")\n",
        "plt.legend(loc=\"lower right\")\n",
        "plt.show()"
      ]
    },
    {
      "cell_type": "code",
      "execution_count": null,
      "metadata": {
        "id": "mlTr0Uryf3TK"
      },
      "outputs": [],
      "source": []
    },
    {
      "cell_type": "markdown",
      "metadata": {
        "id": "1pUxQNxyxK8t"
      },
      "source": [
        "# Random Forest"
      ]
    },
    {
      "cell_type": "code",
      "execution_count": null,
      "metadata": {
        "id": "mS6kDURdxMx0"
      },
      "outputs": [],
      "source": [
        "from sklearn.model_selection import train_test_split\n",
        "X_train , X_test, y_train, y_test= train_test_split(X,y, test_size=0.2, random_state=0)"
      ]
    },
    {
      "cell_type": "code",
      "execution_count": null,
      "metadata": {
        "id": "zij4FlU1xOiC"
      },
      "outputs": [],
      "source": [
        "grid = {\n",
        "    'n_estimators': [1,5,10],\n",
        "    'max_features': ['sqrt', 'log2'],\n",
        "    'max_depth': [2, 4, 6, 8],\n",
        "    'criterion': ['gini', 'entropy'],\n",
        "    'random_state': [0]\n",
        "}\n",
        "\n",
        "gs = GridSearchCV(\n",
        "    estimator=RandomForestClassifier(),\n",
        "    param_grid=grid,\n",
        "    scoring='accuracy',\n",
        "    cv=10,\n",
        "    n_jobs=-1\n",
        ")\n",
        "\n",
        "gs.fit(X_train, y_train)\n",
        "\n",
        "best_accuracy = gs.best_score_\n",
        "\n",
        "best_parameters = gs.best_params_\n",
        "\n",
        "print(\"Best Accuracy:\", best_accuracy)\n",
        "print(\"Best Parameters:\", best_parameters)"
      ]
    },
    {
      "cell_type": "code",
      "execution_count": null,
      "metadata": {
        "id": "wjkGrg6jxUNu"
      },
      "outputs": [],
      "source": [
        "model= RandomForestClassifier(criterion='entropy', max_depth = 4, max_features='sqrt', n_estimators= 20, random_state=0)\n",
        "model.fit(X_train,y_train)"
      ]
    },
    {
      "cell_type": "code",
      "execution_count": null,
      "metadata": {
        "id": "veYk2qdFxaAl"
      },
      "outputs": [],
      "source": [
        "from sklearn.metrics import accuracy_score , recall_score, precision_score,f1_score, roc_curve,auc,confusion_matrix, ConfusionMatrixDisplay\n",
        "import matplotlib.pyplot as plt\n",
        "\n",
        "y_pred=model.predict(X_test)\n",
        "\n",
        "\n",
        "disp = ConfusionMatrixDisplay(confusion_matrix=cm ,display_labels=[\"Benign\",\"Malignant\"])\n",
        "disp.plot(cmap=plt.cm.OrRd)\n",
        "plt.xlabel(\"Predicted labels\")\n",
        "plt.ylabel(\"Actual labels\")\n",
        "plt.show()\n",
        "\n",
        "print(\"Accuracy : \", accuracy_score(y_test, y_pred))\n",
        "print(\"Recall : \",recall_score(y_test, y_pred,pos_label=1))\n",
        "print(\"Precision: \", precision_score(y_test, y_pred,pos_label=1))\n",
        "print(\"F1-score: \", f1_score(y_test, y_pred,pos_label=1))\n",
        "\n",
        "y_pred_prob=model.predict_proba(X_test)\n",
        "fpr, tpr, thresholds = roc_curve(y_test, y_pred_prob[:,1], pos_label=1)\n",
        "\n",
        "roc_auc = auc(fpr, tpr)\n",
        "print (\"AUC: \",roc_auc)\n",
        "\n",
        "plt.plot(fpr, tpr, color='green')\n",
        "plt.title('ROC Curve ')\n",
        "plt.xlabel('False Positive Rate')\n",
        "plt.ylabel('True Positive Rate (Recall)')\n",
        "plt.show()\n",
        "\n",
        "print(classification_report(Y_test, Y_pred))"
      ]
    },
    {
      "cell_type": "code",
      "execution_count": null,
      "metadata": {
        "id": "ShZ59L_KxlUb"
      },
      "outputs": [],
      "source": [
        "accuracy=(7955+83)/(7955+83+25+980)\n",
        "recall= (83)/(83+980)\n",
        "precision = (83)/(83+25)\n",
        "print(\"Accuracy : \", accuracy )\n",
        "print(\"Recall : \",recall)\n",
        "print(\"Precision: \", precision)\n",
        "print(\"F1-score: \", 2*(precision*recall/(precision+recall)))"
      ]
    },
    {
      "cell_type": "code",
      "execution_count": null,
      "metadata": {
        "id": "a8O42xVaxsiA"
      },
      "outputs": [],
      "source": [
        "model.classes_"
      ]
    },
    {
      "cell_type": "code",
      "execution_count": null,
      "metadata": {
        "id": "YmpPGYzrxuCH"
      },
      "outputs": [],
      "source": [
        "model.predict(X_test)"
      ]
    },
    {
      "cell_type": "code",
      "execution_count": null,
      "metadata": {
        "id": "WuTguqsFxvQ0"
      },
      "outputs": [],
      "source": [
        "model.predict_proba(X_test)"
      ]
    },
    {
      "cell_type": "code",
      "execution_count": null,
      "metadata": {
        "id": "s_46wtRMx3W3"
      },
      "outputs": [],
      "source": [
        "y_pro=model.predict_proba(X_test)\n",
        "y_pro[:,1]"
      ]
    },
    {
      "cell_type": "code",
      "execution_count": null,
      "metadata": {
        "id": "uUeYviwhx6N1"
      },
      "outputs": [],
      "source": [
        "from sklearn.metrics import confusion_matrix\n",
        "y_true = [0, 0, 1, 0, 0, 1]\n",
        "y_pred = [0, 0, 1, 1, 0, 1]\n",
        "confusion_matrix(y_true, y_pred)"
      ]
    },
    {
      "cell_type": "markdown",
      "metadata": {
        "id": "wcfMyxVz5M2C"
      },
      "source": [
        "# Support Vector Machine"
      ]
    },
    {
      "cell_type": "code",
      "execution_count": null,
      "metadata": {
        "id": "ouAUtN4-7HJB"
      },
      "outputs": [],
      "source": [
        "bank_updated"
      ]
    },
    {
      "cell_type": "code",
      "execution_count": null,
      "metadata": {
        "id": "LwTcR-f39h5f"
      },
      "outputs": [],
      "source": [
        "bank_updated.head(25)\n"
      ]
    },
    {
      "cell_type": "code",
      "execution_count": null,
      "metadata": {
        "id": "DcLM3thV-Xhu"
      },
      "outputs": [],
      "source": [
        "from sklearn.model_selection import train_test_split\n",
        "from sklearn.preprocessing import StandardScaler\n",
        "from sklearn.svm import SVC\n",
        "from sklearn.metrics import accuracy_score, classification_report, confusion_matrix\n",
        "import pandas as pd\n",
        "\n",
        "X = bank_updated.drop('Target', axis=1)\n",
        "y = bank_updated['Target']\n",
        "\n",
        "X_train, X_test, y_train, y_test = train_test_split(X, y, test_size=0.2, random_state=42)\n",
        "\n",
        "scaler = StandardScaler()\n",
        "X_train_scaled = scaler.fit_transform(X_train)\n",
        "X_test_scaled = scaler.transform(X_test)\n",
        "\n",
        "svm_model = SVC(kernel='linear', C=1.0, random_state=42)\n",
        "\n",
        "svm_model.fit(X_train_scaled, y_train)\n",
        "\n",
        "y_pred = svm_model.predict(X_test_scaled)\n",
        "\n",
        "accuracy = accuracy_score(y_test, y_pred)\n",
        "conf_matrix = confusion_matrix(y_test, y_pred)\n",
        "classification_rep = classification_report(y_test, y_pred)\n",
        "\n",
        "print(\"Accuracy:\", accuracy)\n",
        "print(\"\\nConfusion Matrix:\\n\", conf_matrix)\n",
        "print(\"\\nClassification Report:\\n\", classification_rep)\n",
        "\n",
        "cm = confusion_matrix(y_test, y_pred)\n",
        "disp = ConfusionMatrixDisplay(confusion_matrix=cm, display_labels=le.classes_)\n",
        "disp.plot(cmap=plt.cm.Blues, values_format='.4g')\n",
        "plt.title('Confusion Matrix')\n",
        "plt.show()"
      ]
    },
    {
      "cell_type": "code",
      "execution_count": null,
      "metadata": {
        "id": "tGLn6Ez2Mr9H"
      },
      "outputs": [],
      "source": [
        "from sklearn.metrics import roc_curve, auc, RocCurveDisplay\n",
        "\n",
        "y_pred_prob = svm_model.decision_function(X_test)\n",
        "\n",
        "fpr, tpr, thresholds = roc_curve(y_test, y_pred_prob)\n",
        "roc_auc = auc(fpr, tpr)\n",
        "\n",
        "roc_display = RocCurveDisplay(fpr=fpr, tpr=tpr, roc_auc=roc_auc, estimator_name='SVM')\n",
        "roc_display.plot()\n",
        "plt.title('ROC Curve')\n",
        "plt.show()\n",
        "\n",
        "print(\"AUC:\", roc_auc)"
      ]
    },
    {
      "cell_type": "markdown",
      "metadata": {
        "id": "BX1eR2FPy5eX"
      },
      "source": [
        "# Neural Network"
      ]
    },
    {
      "cell_type": "code",
      "execution_count": null,
      "metadata": {
        "id": "zdlnRgEay9Cu"
      },
      "outputs": [],
      "source": [
        "np.random.seed(42)\n",
        "\n",
        "data = {\n",
        "    'age': np.random.randint(18, 65, size=50000),\n",
        "    'balance': np.random.randint(0, 10000, size=50000),\n",
        "    'day': np.random.randint(1, 31, size=50000),\n",
        "    'duration': np.random.randint(1, 1000, size=50000),\n",
        "    'Target': np.random.randint(2, size=50000)\n",
        "}\n",
        "\n",
        "df = pd.DataFrame(data)\n",
        "\n",
        "X = df.drop('Target', axis=1).values\n",
        "y = df['Target'].values\n",
        "\n",
        "X_train, X_test, y_train, y_test = train_test_split(X, y, test_size=0.2, random_state=42)\n",
        "\n",
        "scaler = StandardScaler()\n",
        "X_train = scaler.fit_transform(X_train)\n",
        "X_test = scaler.transform(X_test)\n",
        "\n",
        "nural_model = Sequential([\n",
        "    Dense(64, activation='relu', input_dim=X_train.shape[1]),\n",
        "    Dense(32, activation='relu'),\n",
        "    Dense(1, activation='sigmoid')\n",
        "])\n",
        "\n",
        "nural_model.compile(optimizer='adam', loss='binary_crossentropy', metrics=['accuracy'])\n",
        "\n",
        "early_stopping = EarlyStopping(monitor='val_loss', patience=5, restore_best_weights=True)\n",
        "\n",
        "history = nural_model.fit(\n",
        "    X_train, y_train, epochs=20, batch_size=32,\n",
        "    validation_split=0.2, callbacks=[early_stopping]\n",
        ")\n",
        "\n",
        "y_pred = (nural_model.predict(X_test) > 0.5).astype(int)\n",
        "accuracy = accuracy_score(y_test, y_pred)\n",
        "print(\"Test Accuracy:\", accuracy)\n",
        "\n",
        "cm = confusion_matrix(y_test, y_pred)\n",
        "disp = ConfusionMatrixDisplay(confusion_matrix=cm, display_labels=[\"Class 0\", \"Class 1\"])\n",
        "disp.plot(cmap=plt.cm.Blues)\n",
        "plt.xlabel(\"Predicted labels\")\n",
        "plt.ylabel(\"Actual labels\")\n",
        "plt.show()\n",
        "\n",
        "y_pred_prob_neural = nural_model.predict(X_test)\n",
        "fpr_neural, tpr_neural, thresholds_neural = roc_curve(y_test, y_pred_prob_neural)\n",
        "roc_auc_neural = auc(fpr_neural, tpr_neural)\n",
        "print(\"AUC:\", roc_auc_neural)\n",
        "\n",
        "plt.plot(fpr_neural, tpr_neural, color='orange')\n",
        "plt.title('ROC Curve (Neural Network)')\n",
        "plt.xlabel('False Positive Rate')\n",
        "plt.ylabel('True Positive Rate (Recall)')\n",
        "plt.show()\n",
        "\n",
        "print(classification_report(y_test, y_pred))"
      ]
    },
    {
      "cell_type": "code",
      "execution_count": null,
      "metadata": {
        "id": "DT1RR-y7v4Mt"
      },
      "outputs": [],
      "source": [
        "import numpy as np\n",
        "import matplotlib.pyplot as plt\n",
        "\n",
        "model_names = ['Logistic Regression', 'Random Forest', 'SVM', 'Neural Network']\n",
        "accuracies = [0.89, 0.90, 0.87, 0.50]\n",
        "\n",
        "plt.figure(figsize=(10, 6))\n",
        "plt.bar(model_names, accuracies, color=['blue', 'green', 'orange', 'red'])\n",
        "plt.xlabel('Models')\n",
        "plt.ylabel('Accuracy')\n",
        "plt.title('Comparison of Model Accuracies')\n",
        "plt.ylim(0.8, 1.0)\n",
        "plt.show()"
      ]
    }
  ],
  "metadata": {
    "colab": {
      "provenance": []
    },
    "kernelspec": {
      "display_name": "Python 3",
      "name": "python3"
    },
    "language_info": {
      "name": "python"
    }
  },
  "nbformat": 4,
  "nbformat_minor": 0
}
